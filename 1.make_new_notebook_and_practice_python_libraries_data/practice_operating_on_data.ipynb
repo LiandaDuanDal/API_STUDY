{
 "cells": [
  {
   "cell_type": "markdown",
   "metadata": {},
   "source": [
    "# XML"
   ]
  },
  {
   "cell_type": "code",
   "execution_count": 57,
   "metadata": {},
   "outputs": [
    {
     "name": "stdout",
     "output_type": "stream",
     "text": [
      "<?xml version=\"1.0\" encoding=\"UTF-8\" ?>\n",
      "<interface xmlns=\"ietf-interfaces\">\n",
      "  <name>GigabitEthernet2</name>\n",
      "  <description>Wide Area Network</description>\n",
      "  <enabled>true</enabled>\n",
      "  <ipv4>\n",
      "    <address>\n",
      "      <ip>172.16.0.2</ip>\n",
      "      <netmask>255.255.255.0</netmask>\n",
      "    </address>\n",
      "  </ipv4>\n",
      "</interface>\n",
      "\n"
     ]
    }
   ],
   "source": [
    "import xmltodict\n",
    "with open(\"./xml/xml_example.xml\") as x:\n",
    "    read_xml = x.read()\n",
    "print(read_xml)\n",
    "#     dic_xml = xmltodict.parse(x.read())\n",
    "#     print(type(dic_xml))\n",
    "#     dic_xml_todic = dict(dic_xml)\n",
    "#     print(type((dic_xml_todic)))\n",
    "#     print(dic_xml_todic)\n",
    "    \n",
    "    \n",
    "#     print(xmltodict.)\n",
    "#     print(x.read())"
   ]
  },
  {
   "cell_type": "code",
   "execution_count": 68,
   "metadata": {},
   "outputs": [
    {
     "name": "stdout",
     "output_type": "stream",
     "text": [
      "<class 'collections.OrderedDict'>\n",
      "\n",
      "OrderedDict([('interface', OrderedDict([('@xmlns', 'ietf-interfaces'), ('name', 'GigabitEthernet2'), ('description', 'Wide Area Network'), ('enabled', 'true'), ('ipv4', OrderedDict([('address', OrderedDict([('ip', '172.16.0.2'), ('netmask', '255.255.255.0')]))]))]))])\n",
      "odict_keys(['@xmlns', 'name', 'description', 'enabled', 'ipv4'])\n"
     ]
    }
   ],
   "source": [
    "with open(\"./xml/xml_example.xml\") as x:\n",
    "    xml_dic = xmltodict.parse(x.read())\n",
    "    print(type(xml_dic))\n",
    "    print()\n",
    "    print(xml_dic)\n",
    "    print()\n",
    "    print(xml_dic['interface'].keys())"
   ]
  },
  {
   "cell_type": "code",
   "execution_count": 67,
   "metadata": {},
   "outputs": [
    {
     "name": "stdout",
     "output_type": "stream",
     "text": [
      "GigabitEthernet2\n"
     ]
    }
   ],
   "source": [
    "print(xml_dic['interface']['name'])"
   ]
  },
  {
   "cell_type": "code",
   "execution_count": 69,
   "metadata": {
    "scrolled": true
   },
   "outputs": [
    {
     "name": "stdout",
     "output_type": "stream",
     "text": [
      "<class 'str'>\n"
     ]
    }
   ],
   "source": [
    "#adverse operation\n",
    "xml_resume = xmltodict.unparse(xml_dic)\n",
    "print(type(xml_resume))"
   ]
  },
  {
   "cell_type": "code",
   "execution_count": 70,
   "metadata": {},
   "outputs": [
    {
     "name": "stdout",
     "output_type": "stream",
     "text": [
      "<?xml version=\"1.0\" encoding=\"utf-8\"?>\n",
      "<interface xmlns=\"ietf-interfaces\"><name>GigabitEthernet2</name><description>Wide Area Network</description><enabled>true</enabled><ipv4><address><ip>172.16.0.2</ip><netmask>255.255.255.0</netmask></address></ipv4></interface>\n"
     ]
    }
   ],
   "source": [
    "print(xml_resume)"
   ]
  },
  {
   "cell_type": "markdown",
   "metadata": {},
   "source": [
    "# CSV"
   ]
  },
  {
   "cell_type": "code",
   "execution_count": 18,
   "metadata": {},
   "outputs": [
    {
     "name": "stdout",
     "output_type": "stream",
     "text": [
      "\"router1\",\"10.1.0.1\",\"New York\"\n",
      "\"router2\",\"10.2.0.1\",\"Denver\"\n",
      "\"router3\",\"10.3.0.1\",\"Austin\" \n",
      "\n"
     ]
    }
   ],
   "source": [
    "import csv\n",
    "with open(\"./csv/csv_example.csv\") as f:\n",
    "    read_csv = f.read()\n",
    "    \n",
    "    \n",
    "print(read_csv)"
   ]
  },
  {
   "cell_type": "code",
   "execution_count": 42,
   "metadata": {},
   "outputs": [
    {
     "name": "stdout",
     "output_type": "stream",
     "text": [
      "router: router1, network: 10.1.0.1, location: New York\n",
      "router: router2, network: 10.2.0.1, location: Denver\n",
      "router: router3, network: 10.3.0.1, location: Austin \n"
     ]
    }
   ],
   "source": [
    "# print(type(csv_obj))\n",
    "with open(\"./csv/csv_example.csv\") as f:\n",
    "    csv_obj = csv.reader(f)\n",
    "    \n",
    "    for line in csv_obj:\n",
    "        \n",
    "        print(\"router: {router}, network: {network}, location: {location}\".format(router = line[0],\n",
    "                                                                                 network= line[1],\n",
    "                                                                                 location = line[2]),end = '\\n')"
   ]
  },
  {
   "cell_type": "markdown",
   "metadata": {},
   "source": [
    "# JSON"
   ]
  },
  {
   "cell_type": "code",
   "execution_count": 41,
   "metadata": {},
   "outputs": [
    {
     "name": "stdout",
     "output_type": "stream",
     "text": [
      "<class 'str'>\n",
      "<class 'dict'>\n",
      "{'interface': {'name': 'GigabitEthernet2', 'description': 'Wide Area Network', 'enabled': True, 'ipv4': {'address': [{'ip': '172.16.0.2', 'netmask': '255.255.255.0'}]}}}\n"
     ]
    }
   ],
   "source": [
    "import json\n",
    "with open(\"./json/json_example.json\") as jj:\n",
    "    json_read = jj.read()\n",
    "#     jason_dic = json(json_read)\n",
    "    print(type(json_read))\n",
    "    #convert the string stuff into dic\n",
    "    json_dic = json.loads(json_read)\n",
    "    print(type(json_dic))\n",
    "    print(json_dic)"
   ]
  },
  {
   "cell_type": "code",
   "execution_count": 71,
   "metadata": {},
   "outputs": [
    {
     "name": "stdout",
     "output_type": "stream",
     "text": [
      "code_slideshow.pdf               practice_operating_on_data.ipynb\n",
      "\u001b[1m\u001b[36mcsv\u001b[m\u001b[m                              \u001b[1m\u001b[36mxml\u001b[m\u001b[m\n",
      "\u001b[1m\u001b[36mjson\u001b[m\u001b[m                             \u001b[1m\u001b[36myaml\u001b[m\u001b[m\n",
      "csv_example.csv\n",
      "json_example.json\n",
      "xml_example.xml\n",
      "yaml_example.yaml\n"
     ]
    }
   ],
   "source": [
    "!ls\n",
    "!ls ./csv\n",
    "!ls ./json\n",
    "!ls ./xml\n",
    "!ls ./yaml"
   ]
  },
  {
   "cell_type": "markdown",
   "metadata": {},
   "source": [
    "# YAML"
   ]
  },
  {
   "cell_type": "code",
   "execution_count": 81,
   "metadata": {},
   "outputs": [
    {
     "name": "stdout",
     "output_type": "stream",
     "text": [
      "<class 'str'>\n",
      "---\n",
      "interface:\n",
      "  name: GigabitEthernet2\n",
      "  description: Wide Area Network\n",
      "  enabled: true\n",
      "  ipv4:\n",
      "    address:\n",
      "    - ip: 172.16.0.2\n",
      "      netmask: 255.255.255.0\n",
      "\n"
     ]
    }
   ],
   "source": [
    "import yaml\n",
    "\n",
    "with open(\"./yaml/yaml_example.yaml\") as y:\n",
    "    y_read_str = y.read()\n",
    "    print(type(y_read_str))\n",
    "    print(y_read_str)"
   ]
  },
  {
   "cell_type": "code",
   "execution_count": 76,
   "metadata": {},
   "outputs": [],
   "source": [
    "yaml_dict = yaml.full_load(y_read)"
   ]
  },
  {
   "cell_type": "code",
   "execution_count": 82,
   "metadata": {},
   "outputs": [
    {
     "name": "stdout",
     "output_type": "stream",
     "text": [
      "<class 'dict'>\n",
      "{'interface': {'name': 'GigabitEthernet2', 'description': 'Wide Area Network', 'enabled': True, 'ipv4': {'address': [{'ip': '172.16.0.2', 'netmask': '255.255.255.0'}]}}}\n"
     ]
    }
   ],
   "source": [
    "print(type(yaml_dict))\n",
    "print(yaml_dict)\n"
   ]
  },
  {
   "cell_type": "code",
   "execution_count": 79,
   "metadata": {},
   "outputs": [
    {
     "name": "stdout",
     "output_type": "stream",
     "text": [
      "Wide Area Network\n"
     ]
    }
   ],
   "source": [
    "print(yaml_dict['interface']['description'])"
   ]
  },
  {
   "cell_type": "code",
   "execution_count": 80,
   "metadata": {},
   "outputs": [
    {
     "name": "stdout",
     "output_type": "stream",
     "text": [
      "<class 'str'>\n",
      "interface:\n",
      "  description: Wide Area Network\n",
      "  enabled: true\n",
      "  ipv4:\n",
      "    address:\n",
      "    - ip: 172.16.0.2\n",
      "      netmask: 255.255.255.0\n",
      "  name: GigabitEthernet2\n",
      "\n"
     ]
    }
   ],
   "source": [
    "# revert to string from dictionary\n",
    "yaml_back_to_str = yaml.dump(yaml_dict)\n",
    "print(type(yaml_back_to_str))\n",
    "print(yaml_back_to_str)"
   ]
  },
  {
   "cell_type": "code",
   "execution_count": 86,
   "metadata": {},
   "outputs": [],
   "source": [
    "# Netmiko\n",
    "from netmiko import ConnectHandler \n",
    "import re\n",
    "\n",
    " # create device credentials\n",
    "device = {\n",
    "    \"address\": \"10.1.99.45\",\n",
    "    \"ssh_port\": 22,\n",
    "    \"username\": \"cisco\",\n",
    "    \"password\": \"cisco\"\n",
    "}\n",
    "\n",
    "device[\"device_type\"] = \"cisco_ios\"\n",
    "\n"
   ]
  },
  {
   "cell_type": "code",
   "execution_count": 87,
   "metadata": {},
   "outputs": [
    {
     "name": "stdout",
     "output_type": "stream",
     "text": [
      "{'address': '10.1.99.45', 'ssh_port': 22, 'username': 'cisco', 'password': 'cisco', 'device_type': 'cisco_ios'}\n"
     ]
    }
   ],
   "source": [
    "print(device)"
   ]
  },
  {
   "cell_type": "code",
   "execution_count": 90,
   "metadata": {},
   "outputs": [],
   "source": [
    "# ch = ConnectHandler(ip = device[\"address\"], \n",
    "#                     port = device[\"ssh_port\"],\n",
    "#                     username = device[\"username\"], \n",
    "#                     password = device[\"password\"], \n",
    "#                     device_type = device[\"device_type\"])\n",
    "# print(ch)"
   ]
  },
  {
   "cell_type": "code",
   "execution_count": 91,
   "metadata": {},
   "outputs": [
    {
     "name": "stdout",
     "output_type": "stream",
     "text": [
      "code_slideshow.pdf               practice_operating_on_data.ipynb\r\n",
      "\u001b[1m\u001b[36mcsv\u001b[m\u001b[m                              \u001b[1m\u001b[36mxml\u001b[m\u001b[m\r\n",
      "\u001b[1m\u001b[36mjson\u001b[m\u001b[m                             \u001b[1m\u001b[36myaml\u001b[m\u001b[m\r\n"
     ]
    }
   ],
   "source": [
    "!ls"
   ]
  },
  {
   "cell_type": "code",
   "execution_count": 95,
   "metadata": {},
   "outputs": [
    {
     "name": "stdout",
     "output_type": "stream",
     "text": [
      "11111\r\n",
      "22222\r\n",
      "33333"
     ]
    }
   ],
   "source": [
    "with open('test.txt','w+') as t:\n",
    "    t.writelines('11111\\n')\n",
    "    t.writelines('22222\\n')\n",
    "    t.writelines('33333')\n",
    "    \n",
    "!cat test.txt"
   ]
  },
  {
   "cell_type": "code",
   "execution_count": 96,
   "metadata": {},
   "outputs": [
    {
     "name": "stdout",
     "output_type": "stream",
     "text": [
      "11111\r\n",
      "22222\r\n",
      "33333"
     ]
    }
   ],
   "source": [
    "with open('test.txt','w+') as t:\n",
    "    t.writelines('11111\\n')\n",
    "    t.writelines('22222\\n')\n",
    "    t.writelines('33333')\n",
    "    \n",
    "!cat test.txt"
   ]
  },
  {
   "cell_type": "code",
   "execution_count": 97,
   "metadata": {},
   "outputs": [
    {
     "name": "stdout",
     "output_type": "stream",
     "text": [
      "/Users/lianda_duan/Downloads/API_STUDY_ME/1.make_new_notebook_and_practice_python_libraries_data\r\n"
     ]
    }
   ],
   "source": [
    "!pwd"
   ]
  },
  {
   "cell_type": "code",
   "execution_count": 98,
   "metadata": {},
   "outputs": [],
   "source": [
    "!open /Users/lianda_duan/Downloads/API_STUDY_ME/1.make_new_notebook_and_practice_python_libraries_data"
   ]
  },
  {
   "cell_type": "code",
   "execution_count": null,
   "metadata": {},
   "outputs": [],
   "source": []
  }
 ],
 "metadata": {
  "kernelspec": {
   "display_name": "Python 3",
   "language": "python",
   "name": "python3"
  },
  "language_info": {
   "codemirror_mode": {
    "name": "ipython",
    "version": 3
   },
   "file_extension": ".py",
   "mimetype": "text/x-python",
   "name": "python",
   "nbconvert_exporter": "python",
   "pygments_lexer": "ipython3",
   "version": "3.7.4"
  }
 },
 "nbformat": 4,
 "nbformat_minor": 2
}
