{
 "cells": [
  {
   "cell_type": "code",
   "execution_count": 31,
   "metadata": {},
   "outputs": [
    {
     "name": "stdout",
     "output_type": "stream",
     "text": [
      "code_slideshow.pdf               practice_operating_on_data.ipynb\n",
      "\u001b[1m\u001b[36mcsv\u001b[m\u001b[m                              \u001b[1m\u001b[36mxml\u001b[m\u001b[m\n",
      "\u001b[1m\u001b[36mjson\u001b[m\u001b[m                             \u001b[1m\u001b[36myaml\u001b[m\u001b[m\n",
      "csv_example.csv\n",
      "json_example.json\n"
     ]
    }
   ],
   "source": [
    "!ls\n",
    "!ls ./csv\n",
    "!ls ./json"
   ]
  },
  {
   "cell_type": "code",
   "execution_count": null,
   "metadata": {},
   "outputs": [],
   "source": [
    "# XML"
   ]
  },
  {
   "cell_type": "code",
   "execution_count": null,
   "metadata": {},
   "outputs": [],
   "source": []
  },
  {
   "cell_type": "code",
   "execution_count": null,
   "metadata": {},
   "outputs": [],
   "source": []
  },
  {
   "cell_type": "markdown",
   "metadata": {},
   "source": [
    "# CSV"
   ]
  },
  {
   "cell_type": "code",
   "execution_count": 18,
   "metadata": {},
   "outputs": [
    {
     "name": "stdout",
     "output_type": "stream",
     "text": [
      "\"router1\",\"10.1.0.1\",\"New York\"\n",
      "\"router2\",\"10.2.0.1\",\"Denver\"\n",
      "\"router3\",\"10.3.0.1\",\"Austin\" \n",
      "\n"
     ]
    }
   ],
   "source": [
    "import csv\n",
    "with open(\"./csv/csv_example.csv\") as f:\n",
    "    read_csv = f.read()\n",
    "    \n",
    "    \n",
    "print(read_csv)"
   ]
  },
  {
   "cell_type": "code",
   "execution_count": 42,
   "metadata": {},
   "outputs": [
    {
     "name": "stdout",
     "output_type": "stream",
     "text": [
      "router: router1, network: 10.1.0.1, location: New York\n",
      "router: router2, network: 10.2.0.1, location: Denver\n",
      "router: router3, network: 10.3.0.1, location: Austin \n"
     ]
    }
   ],
   "source": [
    "# print(type(csv_obj))\n",
    "with open(\"./csv/csv_example.csv\") as f:\n",
    "    csv_obj = csv.reader(f)\n",
    "    \n",
    "    for line in csv_obj:\n",
    "        \n",
    "        print(\"router: {router}, network: {network}, location: {location}\".format(router = line[0],\n",
    "                                                                                 network= line[1],\n",
    "                                                                                 location = line[2]),end = '\\n')"
   ]
  },
  {
   "cell_type": "markdown",
   "metadata": {},
   "source": [
    "# JSON"
   ]
  },
  {
   "cell_type": "code",
   "execution_count": 41,
   "metadata": {},
   "outputs": [
    {
     "name": "stdout",
     "output_type": "stream",
     "text": [
      "<class 'str'>\n",
      "<class 'dict'>\n",
      "{'interface': {'name': 'GigabitEthernet2', 'description': 'Wide Area Network', 'enabled': True, 'ipv4': {'address': [{'ip': '172.16.0.2', 'netmask': '255.255.255.0'}]}}}\n"
     ]
    }
   ],
   "source": [
    "import json\n",
    "with open(\"./json/json_example.json\") as jj:\n",
    "    json_read = jj.read()\n",
    "#     jason_dic = json(json_read)\n",
    "    print(type(json_read))\n",
    "    #convert the string stuff into dic\n",
    "    json_dic = json.loads(json_read)\n",
    "    print(type(json_dic))\n",
    "    print(json_dic)"
   ]
  },
  {
   "cell_type": "code",
   "execution_count": null,
   "metadata": {},
   "outputs": [],
   "source": []
  }
 ],
 "metadata": {
  "kernelspec": {
   "display_name": "Python 3",
   "language": "python",
   "name": "python3"
  },
  "language_info": {
   "codemirror_mode": {
    "name": "ipython",
    "version": 3
   },
   "file_extension": ".py",
   "mimetype": "text/x-python",
   "name": "python",
   "nbconvert_exporter": "python",
   "pygments_lexer": "ipython3",
   "version": "3.7.4"
  }
 },
 "nbformat": 4,
 "nbformat_minor": 2
}
