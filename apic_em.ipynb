{
 "cells": [
  {
   "cell_type": "code",
   "execution_count": 15,
   "metadata": {},
   "outputs": [
    {
     "name": "stdout",
     "output_type": "stream",
     "text": [
      "[master 4a29407] new\n",
      " 7 files changed, 644 insertions(+), 51 deletions(-)\n",
      " create mode 100644 2test_map_api/.ipynb_checkpoints/map_api_test_demo-checkpoint.ipynb\n",
      " create mode 100644 2test_map_api/__pycache__/key.cpython-37.pyc\n",
      " create mode 100644 2test_map_api/key.py\n",
      " create mode 100644 2test_map_api/map_api_test_demo.ipynb\n",
      " create mode 100644 2test_map_api/open\n",
      " delete mode 100644 map_api_test_demo.ipynb\n",
      "\u001b[KEnumerating objects: 13, done.\n",
      "\u001b[KCounting objects: 100% (13/13), done.\n",
      "Delta compression using up to 16 threads\n",
      "\u001b[KCompressing objects: 100% (8/8), done.\n",
      "\u001b[KWriting objects: 100% (11/11), 17.75 KiB | 8.87 MiB/s, done.\n",
      "Total 11 (delta 2), reused 0 (delta 0)\n",
      "remote: Resolving deltas: 100% (2/2), completed with 2 local objects.\u001b[K\n",
      "To https://github.com/LiandaDuanDal/API_STUDY.git\n",
      "   cca470a..4a29407  master -> master\n"
     ]
    }
   ],
   "source": [
    "!git add .\n",
    "!git commit -m \"new\"\n",
    "!git push"
   ]
  },
  {
   "cell_type": "markdown",
   "metadata": {},
   "source": [
    "# abc"
   ]
  },
  {
   "cell_type": "code",
   "execution_count": 6,
   "metadata": {},
   "outputs": [
    {
     "name": "stdout",
     "output_type": "stream",
     "text": [
      "/Users/lianda_duan/opt/anaconda3/bin/python\n",
      "Collecting tabulate\n",
      "  Downloading https://files.pythonhosted.org/packages/c4/f4/770ae9385990f5a19a91431163d262182d3203662ea2b5739d0fcfc080f1/tabulate-0.8.7-py3-none-any.whl\n",
      "Installing collected packages: tabulate\n",
      "Successfully installed tabulate-0.8.7\n"
     ]
    }
   ],
   "source": [
    "# !{sys.executable} -m pip install tabulate\n",
    "import sys\n",
    "print(sys.executable)\n",
    "!{sys.executable} -m pip install tabulate"
   ]
  },
  {
   "cell_type": "code",
   "execution_count": 7,
   "metadata": {
    "colab": {},
    "colab_type": "code",
    "id": "2Ei8Y9bWR41H"
   },
   "outputs": [],
   "source": [
    "import requests\n",
    "import json\n",
    "from tabulate import tabulate"
   ]
  },
  {
   "cell_type": "code",
   "execution_count": 8,
   "metadata": {
    "colab": {},
    "colab_type": "code",
    "id": "c9-uQ6bZdq78"
   },
   "outputs": [],
   "source": [
    "apicem_ip = \"https://sandboxapicem.cisco.com\"\n",
    "credentials = {\n",
    "    \"username\": \"devnetuser\",\n",
    "    \"password\" : \"Cisco123!\"\n",
    "}\n",
    "version  = \"v1\""
   ]
  },
  {
   "cell_type": "code",
   "execution_count": 9,
   "metadata": {},
   "outputs": [
    {
     "name": "stdout",
     "output_type": "stream",
     "text": [
      "200\n",
      "ST-12847-dwFucZyaE0tBtmOUxtcq-cas\n"
     ]
    }
   ],
   "source": [
    "#  https://sandboxapicem.cisco.com/api/v1/ticket\n",
    "\n",
    "ticket_url = f'{apicem_ip}/api/{version}/ticket'\n",
    "headers = {\n",
    "    \"content-type\": \"application/json\"\n",
    "}\n",
    "response = requests.post(url=ticket_url,\n",
    "                         headers=headers, \n",
    "                         data=json.dumps(credentials),\n",
    "                         verify=True\n",
    "                         )\n",
    "print(response.status_code)\n",
    "r_json = response.json()\n",
    "ticket = r_json['response']['serviceTicket']\n",
    "print(ticket)"
   ]
  },
  {
   "cell_type": "code",
   "execution_count": 0,
   "metadata": {
    "colab": {
     "base_uri": "https://localhost:8080/",
     "height": 50
    },
    "colab_type": "code",
    "id": "BUHJiQYvd6D4",
    "outputId": "333a754e-8195-4c42-c098-266c523da68a"
   },
   "outputs": [
    {
     "name": "stdout",
     "output_type": "stream",
     "text": [
      "200\n",
      "ST-12638-4x1jm6XNwGyXCZsalHyS-cas\n"
     ]
    }
   ],
   "source": [
    "#  https://sandboxapicem.cisco.com/api/v1/ticket\n",
    "\n",
    "ticket_url = f'{apicem_ip}/api/{version}/ticket'\n",
    "headers = {\n",
    "    \"content-type\": \"application/json\"\n",
    "}\n",
    "response = requests.post(url=ticket_url,\n",
    "                         headers=headers, \n",
    "                         data=json.dumps(credentials),\n",
    "                         verify=True\n",
    "                         )\n",
    "print(response.status_code)\n",
    "r_json = response.json()\n",
    "ticket = r_json['response']['serviceTicket']\n",
    "print(ticket)"
   ]
  },
  {
   "cell_type": "code",
   "execution_count": 0,
   "metadata": {
    "colab": {
     "base_uri": "https://localhost:8080/",
     "height": 70
    },
    "colab_type": "code",
    "id": "J4k5yek1oTKV",
    "outputId": "6074a0be-98c8-47be-e64b-c8c7bf3e14b2"
   },
   "outputs": [
    {
     "name": "stdout",
     "output_type": "stream",
     "text": [
      "200\n",
      "{'response': [{'username': 'devnetuser', 'authorization': [{'scope': 'ALL', 'role': 'ROLE_POLICY_ADMIN'}], 'authSource': 'internal'}], 'version': '1.0'}\n"
     ]
    }
   ],
   "source": [
    "# https://sandboxapicem.cisco.com/api/v1/user\n",
    "\n",
    "ticket_url = f'{apicem_ip}/api/{version}/user'\n",
    "headers = {\n",
    "    \"content-type\": \"application/json\",\n",
    "    \"X-Auth-Token\": ticket\n",
    "}\n",
    "response = requests.get(url=ticket_url,\n",
    "                         headers=headers, \n",
    "                         verify=True\n",
    "                         )\n",
    "print(response.status_code)\n",
    "r_json = response.json()\n",
    "print(r_json)"
   ]
  },
  {
   "cell_type": "code",
   "execution_count": 0,
   "metadata": {
    "colab": {
     "base_uri": "https://localhost:8080/",
     "height": 70
    },
    "colab_type": "code",
    "id": "WHTTx664oWZi",
    "outputId": "b953f01e-e8f9-4b28-957b-9abe200c2607"
   },
   "outputs": [
    {
     "name": "stdout",
     "output_type": "stream",
     "text": [
      "200\n",
      "{'response': [{'hostIp': '10.1.15.117', 'hostMac': '00:24:d7:43:59:d8', 'hostType': 'wireless', 'connectedNetworkDeviceId': 'cd6d9b24-839b-4d58-adfe-3fdf781e1782', 'connectedNetworkDeviceIpAddress': '10.1.14.3', 'connectedAPMacAddress': '68:bc:0c:63:4a:b0', 'connectedAPName': 'AP7081.059f.19ca', 'vlanId': '600', 'lastUpdated': '1479514114932', 'source': '200', 'pointOfPresence': 'ae19cd21-1b26-4f58-8ccd-d265deabb6c3', 'pointOfAttachment': 'ae19cd21-1b26-4f58-8ccd-d265deabb6c3', 'subType': 'UNKNOWN', 'id': '48cdeb9b-b412-491e-a80c-7ec5bbe98167'}, {'hostIp': '10.2.1.22', 'hostMac': '5c:f9:dd:52:07:78', 'hostType': 'wired', 'connectedNetworkDeviceId': '26450a30-57d8-4b56-b8f1-6fc535d67645', 'connectedNetworkDeviceIpAddress': '10.2.1.17', 'connectedInterfaceId': '7075521d-4d7b-4218-92f9-79b60e054635', 'connectedInterfaceName': 'GigabitEthernet1/0/47', 'vlanId': '200', 'lastUpdated': '1479514299803', 'source': '200', 'subType': 'UNKNOWN', 'id': 'f624d4f3-0ab9-4ae3-b09d-62051edbd8f3'}, {'hostIp': '10.1.12.20', 'hostMac': 'e8:9a:8f:7a:22:99', 'hostType': 'wired', 'connectedNetworkDeviceId': '5b5ea8da-8c23-486a-b95e-7429684d25fc', 'connectedNetworkDeviceIpAddress': '10.1.12.1', 'connectedInterfaceId': '6e4e5ae6-6045-4060-9038-1a64d5a101cc', 'connectedInterfaceName': 'GigabitEthernet1/0/47', 'vlanId': '200', 'lastUpdated': '1479513914455', 'source': '200', 'subType': 'UNKNOWN', 'id': '572d4065-abd8-4b97-bfc3-ab5ee13f6c08'}], 'version': '1.0'}\n"
     ]
    }
   ],
   "source": [
    "# https://sandboxapicem.cisco.com/api/v1/host\n",
    "\n",
    "ticket_url = f'{apicem_ip}/api/{version}/host'\n",
    "headers = {\n",
    "    \"content-type\": \"application/json\",\n",
    "    \"X-Auth-Token\": ticket\n",
    "}\n",
    "response = requests.get(url=ticket_url,\n",
    "                         headers=headers, \n",
    "                         verify=True\n",
    "                         )\n",
    "print(response.status_code)\n",
    "r_json = response.json()\n",
    "print(r_json)"
   ]
  },
  {
   "cell_type": "code",
   "execution_count": 0,
   "metadata": {
    "colab": {
     "base_uri": "https://localhost:8080/",
     "height": 67
    },
    "colab_type": "code",
    "id": "7RFjx9MwpzmS",
    "outputId": "57479ffb-e058-406b-e162-3227c09e7294"
   },
   "outputs": [
    {
     "name": "stdout",
     "output_type": "stream",
     "text": [
      "10.1.15.117\n",
      "10.2.1.22\n",
      "10.1.12.20\n"
     ]
    }
   ],
   "source": [
    "# r_json['response'][2]['hostMac']\n",
    "\n",
    "for item in r_json['response']:\n",
    "    print(item['hostIp'])"
   ]
  },
  {
   "cell_type": "code",
   "execution_count": 0,
   "metadata": {
    "colab": {
     "base_uri": "https://localhost:8080/",
     "height": 70
    },
    "colab_type": "code",
    "id": "DPXIkp0MqMG6",
    "outputId": "fdae1ae1-b4bd-4842-dba8-6e918a4a13f0"
   },
   "outputs": [
    {
     "name": "stdout",
     "output_type": "stream",
     "text": [
      "200\n"
     ]
    },
    {
     "data": {
      "text/plain": [
       "'{\"response\": [{\"hostIp\": \"10.1.15.117\", \"hostMac\": \"00:24:d7:43:59:d8\", \"hostType\": \"wireless\", \"connectedNetworkDeviceId\": \"cd6d9b24-839b-4d58-adfe-3fdf781e1782\", \"connectedNetworkDeviceIpAddress\": \"10.1.14.3\", \"connectedAPMacAddress\": \"68:bc:0c:63:4a:b0\", \"connectedAPName\": \"AP7081.059f.19ca\", \"vlanId\": \"600\", \"lastUpdated\": \"1479514114932\", \"source\": \"200\", \"pointOfPresence\": \"ae19cd21-1b26-4f58-8ccd-d265deabb6c3\", \"pointOfAttachment\": \"ae19cd21-1b26-4f58-8ccd-d265deabb6c3\", \"subType\": \"UNKNOWN\", \"id\": \"48cdeb9b-b412-491e-a80c-7ec5bbe98167\"}, {\"hostIp\": \"10.2.1.22\", \"hostMac\": \"5c:f9:dd:52:07:78\", \"hostType\": \"wired\", \"connectedNetworkDeviceId\": \"26450a30-57d8-4b56-b8f1-6fc535d67645\", \"connectedNetworkDeviceIpAddress\": \"10.2.1.17\", \"connectedInterfaceId\": \"7075521d-4d7b-4218-92f9-79b60e054635\", \"connectedInterfaceName\": \"GigabitEthernet1/0/47\", \"vlanId\": \"200\", \"lastUpdated\": \"1479514299803\", \"source\": \"200\", \"subType\": \"UNKNOWN\", \"id\": \"f624d4f3-0ab9-4ae3-b09d-62051edbd8f3\"}, {\"hostIp\": \"10.1.12.20\", \"hostMac\": \"e8:9a:8f:7a:22:99\", \"hostType\": \"wired\", \"connectedNetworkDeviceId\": \"5b5ea8da-8c23-486a-b95e-7429684d25fc\", \"connectedNetworkDeviceIpAddress\": \"10.1.12.1\", \"connectedInterfaceId\": \"6e4e5ae6-6045-4060-9038-1a64d5a101cc\", \"connectedInterfaceName\": \"GigabitEthernet1/0/47\", \"vlanId\": \"200\", \"lastUpdated\": \"1479513914455\", \"source\": \"200\", \"subType\": \"UNKNOWN\", \"id\": \"572d4065-abd8-4b97-bfc3-ab5ee13f6c08\"}], \"version\": \"1.0\"}'"
      ]
     },
     "execution_count": 36,
     "metadata": {
      "tags": []
     },
     "output_type": "execute_result"
    }
   ],
   "source": [
    "# https://sandboxapicem.cisco.com/api/v1/network-device\n",
    "\n",
    "ticket_url = f'{apicem_ip}/api/{version}/host'\n",
    "headers = {\n",
    "    \"content-type\": \"application/json\",\n",
    "    \"X-Auth-Token\": ticket\n",
    "}\n",
    "response = requests.get(url=ticket_url,\n",
    "                         headers=headers, \n",
    "                         verify=True\n",
    "                         )\n",
    "print(response.status_code)\n",
    "r_json = response.json()\n",
    "type(r_json)\n",
    "json.dumps(r_json)"
   ]
  },
  {
   "cell_type": "code",
   "execution_count": 0,
   "metadata": {
    "colab": {
     "base_uri": "https://localhost:8080/",
     "height": 50
    },
    "colab_type": "code",
    "id": "X66i8u_Crets",
    "outputId": "44a771ce-be52-48c8-9b2b-7351b7fad156"
   },
   "outputs": [
    {
     "name": "stdout",
     "output_type": "stream",
     "text": [
      "['wireless', 'wired', 'wired']\n"
     ]
    },
    {
     "data": {
      "text/plain": [
       "2"
      ]
     },
     "execution_count": 42,
     "metadata": {
      "tags": []
     },
     "output_type": "execute_result"
    }
   ],
   "source": [
    "deviceTypes = []\n",
    "for item in r_json['response']:\n",
    "    deviceTypes.append(item['hostType'])\n",
    "\n",
    "print(deviceTypes)\n",
    "deviceTypes.count('wired')\n"
   ]
  },
  {
   "cell_type": "code",
   "execution_count": 0,
   "metadata": {
    "colab": {
     "base_uri": "https://localhost:8080/",
     "height": 50
    },
    "colab_type": "code",
    "id": "QmvwQYEcsqnu",
    "outputId": "4a34d952-f351-49f2-ad7f-8c90296b87ed"
   },
   "outputs": [
    {
     "name": "stdout",
     "output_type": "stream",
     "text": [
      "['00:24:d7:43:59:d8']\n"
     ]
    },
    {
     "data": {
      "text/plain": [
       "1"
      ]
     },
     "execution_count": 47,
     "metadata": {
      "tags": []
     },
     "output_type": "execute_result"
    }
   ],
   "source": [
    "deviceVlans = []\n",
    "for item in r_json['response']:\n",
    "    if item['vlanId'] == '600':\n",
    "        deviceVlans.append(item['hostMac'])\n",
    "\n",
    "print(deviceVlans)\n",
    "len(deviceVlans)"
   ]
  },
  {
   "cell_type": "code",
   "execution_count": 0,
   "metadata": {
    "colab": {
     "base_uri": "https://localhost:8080/",
     "height": 34
    },
    "colab_type": "code",
    "id": "02efmKgEt2hR",
    "outputId": "28463266-c2ae-483c-cde3-879c86c0604c"
   },
   "outputs": [
    {
     "data": {
      "text/plain": [
       "[]"
      ]
     },
     "execution_count": 53,
     "metadata": {
      "tags": []
     },
     "output_type": "execute_result"
    }
   ],
   "source": [
    "def get_vlans(vlanId):\n",
    "    deviceVlans = []\n",
    "    for item in r_json['response']:\n",
    "        if item['vlanId'] == vlanId:\n",
    "            deviceVlans.append(item['hostMac'])\n",
    "    return deviceVlans\n",
    "\n",
    "\n",
    "get_vlans(200)"
   ]
  },
  {
   "cell_type": "code",
   "execution_count": 0,
   "metadata": {
    "colab": {
     "base_uri": "https://localhost:8080/",
     "height": 34
    },
    "colab_type": "code",
    "id": "m1xpQnC_wqHi",
    "outputId": "649ad0a2-1857-4257-b91c-ae9c58ef6237"
   },
   "outputs": [
    {
     "name": "stdout",
     "output_type": "stream",
     "text": [
      "200\n"
     ]
    }
   ],
   "source": [
    "ticket_url = f'{apicem_ip}/api/{version}/network-device'\n",
    "headers = {\n",
    "    \"content-type\": \"application/json\",\n",
    "    \"X-Auth-Token\": ticket\n",
    "}\n",
    "response = requests.get(url=ticket_url,\n",
    "                         headers=headers, \n",
    "                         verify=True\n",
    "                         )\n",
    "print(response.status_code)\n",
    "r_json = response.json()\n",
    "# type(r_json)\n",
    "# json.dumps(r_json)"
   ]
  },
  {
   "cell_type": "code",
   "execution_count": 0,
   "metadata": {
    "colab": {
     "base_uri": "https://localhost:8080/",
     "height": 54
    },
    "colab_type": "code",
    "id": "221EKVKbun69",
    "outputId": "c704a07b-5de4-4cb0-e554-8ecfebe3d1cd"
   },
   "outputs": [
    {
     "name": "stdout",
     "output_type": "stream",
     "text": [
      "[[1, 'AP7081.059f.19ca', '10.1.14.3', 'Cisco 3500I Unified Access Point', 'cd6d9b24-839b-4d58-adfe-3fdf781e1782'], [2, 'Branch-Access1', '10.2.1.17', 'Cisco Catalyst 29xx Stack-able Ethernet Switch', '26450a30-57d8-4b56-b8f1-6fc535d67645'], [3, 'Branch-Router1', '10.2.2.1', 'Cisco 2911 Integrated Services Router G2', '0dd240fd-5cca-4774-a801-9f1c04edcc70'], [4, 'Branch-Router2', '10.2.2.2', 'Cisco 2911 Integrated Services Router G2', '6ce631db-9212-4587-867f-b8f3aed1702d'], [5, 'Branch2-Router.yourdomain.com', '218.1.100.100', 'Cisco 2911 Integrated Services Router G2', 'd337811b-d371-444c-a49f-9e2791f955b4'], [6, 'CAMPUS-Access1', '10.1.12.1', 'Cisco Catalyst 3850-48U-E Switch', '5b5ea8da-8c23-486a-b95e-7429684d25fc'], [7, 'CAMPUS-Core1', '10.1.7.1', 'Cisco Catalyst 6503 Switch', '30d39b18-9ada-4148-ad6c-2ee20975b845'], [8, 'CAMPUS-Core2', '10.1.10.1', 'Cisco Catalyst 6503 Switch', '1b329f52-95eb-44ad-9314-55932162ab86'], [9, 'CAMPUS-Dist1', '10.255.1.5', 'Cisco Catalyst 4507R plus E Switch', 'c8ed3e49-5eeb-4dee-b120-edeb179c8394'], [10, 'CAMPUS-Dist2', '10.1.11.1', 'Cisco Catalyst 4507R plus E Switch', '4af8bf34-295f-46f4-97b7-0a2d2ea4cf22'], [11, 'CAMPUS-Router1', '10.1.2.1', 'Cisco 4451 Series Integrated Services Router', '9712ab62-6140-43fd-b1ee-1b07d1fb67d7'], [12, 'CAMPUS-Router2', '10.1.4.2', 'Cisco 4451 Series Integrated Services Router', '55450140-de19-47b5-ae80-bfd741b23fd9'], [13, 'Campus-WLC-5508', '10.1.14.2', 'Cisco 5508 Wireless LAN Controller', 'ae19cd21-1b26-4f58-8ccd-d265deabb6c3']]\n"
     ]
    }
   ],
   "source": [
    "device_list = []\n",
    "i=0\n",
    "for item in r_json['response']:\n",
    "    i+=1\n",
    "    device_list.append([i,item[\"hostname\"],item[\"managementIpAddress\"],item[\"type\"],item[\"instanceUuid\"]])\n",
    "\n",
    "print(device_list)"
   ]
  },
  {
   "cell_type": "code",
   "execution_count": 0,
   "metadata": {
    "colab": {
     "base_uri": "https://localhost:8080/",
     "height": 322
    },
    "colab_type": "code",
    "id": "rhYBjsMEwCIW",
    "outputId": "417934ed-3934-446d-9779-2cf34bb8a487"
   },
   "outputs": [
    {
     "name": "stdout",
     "output_type": "stream",
     "text": [
      "====  =============================  =============  ==============================================  ====================================\n",
      "  ..  number                         hostname       ip                                              type\n",
      "====  =============================  =============  ==============================================  ====================================\n",
      "   1  AP7081.059f.19ca               10.1.14.3      Cisco 3500I Unified Access Point                cd6d9b24-839b-4d58-adfe-3fdf781e1782\n",
      "   2  Branch-Access1                 10.2.1.17      Cisco Catalyst 29xx Stack-able Ethernet Switch  26450a30-57d8-4b56-b8f1-6fc535d67645\n",
      "   3  Branch-Router1                 10.2.2.1       Cisco 2911 Integrated Services Router G2        0dd240fd-5cca-4774-a801-9f1c04edcc70\n",
      "   4  Branch-Router2                 10.2.2.2       Cisco 2911 Integrated Services Router G2        6ce631db-9212-4587-867f-b8f3aed1702d\n",
      "   5  Branch2-Router.yourdomain.com  218.1.100.100  Cisco 2911 Integrated Services Router G2        d337811b-d371-444c-a49f-9e2791f955b4\n",
      "   6  CAMPUS-Access1                 10.1.12.1      Cisco Catalyst 3850-48U-E Switch                5b5ea8da-8c23-486a-b95e-7429684d25fc\n",
      "   7  CAMPUS-Core1                   10.1.7.1       Cisco Catalyst 6503 Switch                      30d39b18-9ada-4148-ad6c-2ee20975b845\n",
      "   8  CAMPUS-Core2                   10.1.10.1      Cisco Catalyst 6503 Switch                      1b329f52-95eb-44ad-9314-55932162ab86\n",
      "   9  CAMPUS-Dist1                   10.255.1.5     Cisco Catalyst 4507R plus E Switch              c8ed3e49-5eeb-4dee-b120-edeb179c8394\n",
      "  10  CAMPUS-Dist2                   10.1.11.1      Cisco Catalyst 4507R plus E Switch              4af8bf34-295f-46f4-97b7-0a2d2ea4cf22\n",
      "  11  CAMPUS-Router1                 10.1.2.1       Cisco 4451 Series Integrated Services Router    9712ab62-6140-43fd-b1ee-1b07d1fb67d7\n",
      "  12  CAMPUS-Router2                 10.1.4.2       Cisco 4451 Series Integrated Services Router    55450140-de19-47b5-ae80-bfd741b23fd9\n",
      "  13  Campus-WLC-5508                10.1.14.2      Cisco 5508 Wireless LAN Controller              ae19cd21-1b26-4f58-8ccd-d265deabb6c3\n",
      "====  =============================  =============  ==============================================  ====================================\n"
     ]
    }
   ],
   "source": [
    "print (tabulate(device_list, headers=['number','hostname','ip','type'],tablefmt=\"rst\"))"
   ]
  },
  {
   "cell_type": "code",
   "execution_count": 17,
   "metadata": {
    "colab": {
     "base_uri": "https://localhost:8080/",
     "height": 283
    },
    "colab_type": "code",
    "id": "V6N7tUR0w2E0",
    "outputId": "727c5530-2cfe-481b-99fb-6845016b2c62"
   },
   "outputs": [
    {
     "data": {
      "image/png": "[encoded data removed]",
      "text/plain": [
       "<Figure size 432x288 with 1 Axes>"
      ]
     },
     "metadata": {
      "needs_background": "light"
     },
     "output_type": "display_data"
    }
   ],
   "source": [
    "import matplotlib.pyplot as pp\n",
    "\n",
    "pp.plot((1,2,3, -76.612137), (3,5,9, 38.892063) )\n",
    "pp.show()\n",
    "\n",
    "\n",
    "\n"
   ]
  },
  {
   "cell_type": "code",
   "execution_count": 0,
   "metadata": {
    "colab": {},
    "colab_type": "code",
    "id": "ROZA4Fai1Inm"
   },
   "outputs": [],
   "source": []
  }
 ],
 "metadata": {
  "colab": {
   "collapsed_sections": [],
   "name": "apic-em.ipynb",
   "provenance": []
  },
  "kernelspec": {
   "display_name": "Python 3",
   "language": "python",
   "name": "python3"
  },
  "language_info": {
   "codemirror_mode": {
    "name": "ipython",
    "version": 3
   },
   "file_extension": ".py",
   "mimetype": "text/x-python",
   "name": "python",
   "nbconvert_exporter": "python",
   "pygments_lexer": "ipython3",
   "version": "3.7.4"
  }
 },
 "nbformat": 4,
 "nbformat_minor": 1
}
