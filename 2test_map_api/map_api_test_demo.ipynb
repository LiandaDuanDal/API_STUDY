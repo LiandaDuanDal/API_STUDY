{
 "cells": [
  {
   "cell_type": "code",
   "execution_count": 1,
   "metadata": {},
   "outputs": [],
   "source": [
    "def send_request_get_frrdback(url_be_sent):\n",
    "    import requests\n",
    "    return_inf = requests.post(url_be_sent)\n",
    "\n"
   ]
  },
  {
   "cell_type": "code",
   "execution_count": 4,
   "metadata": {},
   "outputs": [
    {
     "name": "stdout",
     "output_type": "stream",
     "text": [
      "\u001b[1m\u001b[36m1.make_new_notebook_and_practice_python_libraries_data\u001b[m\u001b[m\n",
      "PYTHON_API_NETWORKING_NOTE.md\n",
      "README.md\n",
      "apic_em.ipynb\n",
      "apicem.pdf\n",
      "map_api_test_demo.ipynb\n",
      "pythonLibrariesPpt.pdf\n",
      "\u001b[1m\u001b[36mpython_api\u001b[m\u001b[m\n",
      "\u001b[1m\u001b[36mzip\u001b[m\u001b[m\n",
      "The files /Users/lianda_duan/Downloads/API_STUDY_ME/echo and /Users/lianda_duan/Downloads/API_STUDY_ME/pwd do not exist.\n"
     ]
    }
   ],
   "source": [
    "!ls\n",
    "!open echo pwd"
   ]
  },
  {
   "cell_type": "code",
   "execution_count": 1,
   "metadata": {},
   "outputs": [],
   "source": [
    "!touch key.py"
   ]
  },
  {
   "cell_type": "code",
   "execution_count": 16,
   "metadata": {},
   "outputs": [
    {
     "name": "stdout",
     "output_type": "stream",
     "text": [
      "\u001b[1m\u001b[36m__pycache__\u001b[m\u001b[m             map_api_test_demo.ipynb\r\n",
      "key.py                  open\r\n"
     ]
    }
   ],
   "source": [
    "!ls"
   ]
  },
  {
   "cell_type": "code",
   "execution_count": 42,
   "metadata": {},
   "outputs": [
    {
     "name": "stdout",
     "output_type": "stream",
     "text": [
      "hello\r\n"
     ]
    }
   ],
   "source": [
    "!echo \"hello\""
   ]
  },
  {
   "cell_type": "code",
   "execution_count": 21,
   "metadata": {},
   "outputs": [],
   "source": [
    "!echo \"key = \\\"qLFKsYvU3e3iEl31xzYy9GPZAItXz68y\\\"\"> key.py"
   ]
  },
  {
   "cell_type": "code",
   "execution_count": 22,
   "metadata": {},
   "outputs": [
    {
     "name": "stdout",
     "output_type": "stream",
     "text": [
      "key = \"qLFKsYvU3e3iEl31xzYy9GPZAItXz68y\"\r\n"
     ]
    }
   ],
   "source": [
    "!cat key.py"
   ]
  },
  {
   "cell_type": "code",
   "execution_count": 43,
   "metadata": {},
   "outputs": [
    {
     "name": "stdout",
     "output_type": "stream",
     "text": [
      "qLFKsYvU3e3iEl31xzYy9GPZAItXz68y\n"
     ]
    }
   ],
   "source": [
    "from key import key\n",
    "import urllib.parse\n",
    "import requests\n",
    "\n",
    "current_key = key\n",
    "print(current_key)"
   ]
  },
  {
   "cell_type": "code",
   "execution_count": 30,
   "metadata": {},
   "outputs": [
    {
     "name": "stdout",
     "output_type": "stream",
     "text": [
      "http://www.mapquestapi.com/directions/v2/route?key=qLFKsYvU3e3iEl31xzYy9GPZAItXz68y&from=Washington&to=Baltimaore\n"
     ]
    }
   ],
   "source": [
    "main_api = \"http://www.mapquestapi.com/directions/v2/route?\"\n",
    "# =======================\n",
    "original = \"Washington\"\n",
    "destination = \"Baltimaore\"\n",
    "current_key = key\n",
    "# =======================\n",
    "dic_be_encoded = {\"key\":current_key,\n",
    "                  \"from\":original,\n",
    "                 \"to\":destination}\n",
    "# =======================\n",
    "url_to_send = main_api+urllib.parse.urlencode(dic_be_encoded)\n",
    "print(url_to_send)\n"
   ]
  },
  {
   "cell_type": "code",
   "execution_count": 44,
   "metadata": {
    "scrolled": true
   },
   "outputs": [
    {
     "name": "stdout",
     "output_type": "stream",
     "text": [
      "key=qLFKsYvU3e3iEl31xzYy9GPZAItXz68y&from=Washington&to=Baltimaore\n"
     ]
    }
   ],
   "source": [
    "print(urllib.parse.urlencode(dic_be_encoded))"
   ]
  },
  {
   "cell_type": "code",
   "execution_count": 45,
   "metadata": {},
   "outputs": [
    {
     "name": "stdout",
     "output_type": "stream",
     "text": [
      "<class 'requests.models.Response'>\n"
     ]
    }
   ],
   "source": [
    "content_get = requests.get(url_to_send)\n",
    "print(type(content_get))"
   ]
  },
  {
   "cell_type": "code",
   "execution_count": 46,
   "metadata": {},
   "outputs": [
    {
     "name": "stdout",
     "output_type": "stream",
     "text": [
      "<class 'dict'>\n"
     ]
    }
   ],
   "source": [
    "content_get_json = content_get.json()\n",
    "print(type(content_get_json))"
   ]
  },
  {
   "cell_type": "code",
   "execution_count": 47,
   "metadata": {},
   "outputs": [
    {
     "name": "stdout",
     "output_type": "stream",
     "text": [
      "dict_keys(['route', 'info'])\n"
     ]
    }
   ],
   "source": [
    "print(content_get_json.keys())"
   ]
  },
  {
   "cell_type": "code",
   "execution_count": 48,
   "metadata": {},
   "outputs": [
    {
     "name": "stdout",
     "output_type": "stream",
     "text": [
      "dict_keys(['hasTollRoad', 'hasBridge', 'boundingBox', 'distance', 'hasTimedRestriction', 'hasTunnel', 'hasHighway', 'computedWaypoints', 'routeError', 'formattedTime', 'sessionId', 'hasAccessRestriction', 'realTime', 'hasSeasonalClosure', 'hasCountryCross', 'fuelUsed', 'legs', 'options', 'locations', 'time', 'hasUnpaved', 'locationSequence', 'hasFerry'])\n"
     ]
    }
   ],
   "source": [
    "print(content_get_json['route'].keys())"
   ]
  },
  {
   "cell_type": "code",
   "execution_count": 53,
   "metadata": {},
   "outputs": [
    {
     "name": "stdout",
     "output_type": "stream",
     "text": [
      "distance : 61.32 km\n"
     ]
    }
   ],
   "source": [
    "print(\"distance : {:.2f} km\".format(content_get_json['route']['distance']*1.61))"
   ]
  },
  {
   "cell_type": "code",
   "execution_count": 58,
   "metadata": {},
   "outputs": [
    {
     "name": "stdout",
     "output_type": "stream",
     "text": [
      "hasTollRoad------>False\n",
      "hasBridge------>True\n",
      "distance------>38.089\n",
      "hasTimedRestriction------>False\n",
      "hasTunnel------>False\n",
      "hasHighway------>True\n",
      "computedWaypoints------>[]\n",
      "formattedTime------>00:49:29\n",
      "hasAccessRestriction------>False\n",
      "realTime------>3737\n",
      "hasSeasonalClosure------>False\n",
      "hasCountryCross------>False\n",
      "locations------>[{'dragPoint': False, 'displayLatLng': {'lng': -77.019913, 'lat': 38.892063}, 'adminArea4': 'District of Columbia', 'adminArea5': 'Washington', 'postalCode': '', 'adminArea1': 'US', 'adminArea3': 'DC', 'type': 's', 'sideOfStreet': 'N', 'geocodeQualityCode': 'A5XAX', 'adminArea4Type': 'County', 'linkId': 16768184, 'street': '', 'adminArea5Type': 'City', 'geocodeQuality': 'CITY', 'adminArea1Type': 'Country', 'adminArea3Type': 'State', 'latLng': {'lng': -77.019912, 'lat': 38.892062}}, {'dragPoint': False, 'displayLatLng': {'lng': -76.612328, 'lat': 39.29044}, 'adminArea4': '', 'adminArea5': 'Baltimore', 'postalCode': '', 'adminArea1': 'US', 'adminArea3': 'MD', 'type': 's', 'sideOfStreet': 'N', 'geocodeQualityCode': 'A5XAX', 'adminArea4Type': 'County', 'linkId': 34613359, 'street': '', 'adminArea5Type': 'City', 'geocodeQuality': 'CITY', 'adminArea1Type': 'Country', 'adminArea3Type': 'State', 'latLng': {'lng': -76.61233, 'lat': 39.29044}}]\n",
      "hasUnpaved------>False\n",
      "locationSequence------>[0, 1]\n",
      "hasFerry------>False\n"
     ]
    }
   ],
   "source": [
    "for _ in content_get_json['route'].keys():\n",
    "    if 'a' in _:\n",
    "        print(_+\"------>\"+str(content_get_json['route'][_]))"
   ]
  },
  {
   "cell_type": "code",
   "execution_count": 79,
   "metadata": {},
   "outputs": [
    {
     "data": {
      "image/png": "[encoded data removed]",
      "text/plain": [
       "<Figure size 432x288 with 1 Axes>"
      ]
     },
     "metadata": {
      "needs_background": "light"
     },
     "output_type": "display_data"
    }
   ],
   "source": [
    "from matplotlib import pyplot as plt\n",
    "from math import sin,cos\n",
    "x = list(range(0,100,1))\n",
    "y = [sin(_/10) for _ in x]\n",
    "yy = [cos(_/10) for _ in x]\n",
    "plt.scatter(x,y)\n",
    "plt.scatter(x,yy)\n",
    "plt.grid()\n",
    "plt.xlabel(\"x\")\n",
    "plt.ylabel(\"y\")\n",
    "plt.title('this is a title')\n",
    "plt.show()\n"
   ]
  },
  {
   "cell_type": "code",
   "execution_count": null,
   "metadata": {},
   "outputs": [],
   "source": [
    "import sys\n",
    "!{sys.executable} pip install matplotlib"
   ]
  },
  {
   "cell_type": "code",
   "execution_count": 75,
   "metadata": {},
   "outputs": [
    {
     "name": "stdout",
     "output_type": "stream",
     "text": [
      "[1, 4, 9, 16, 25]\n"
     ]
    }
   ],
   "source": [
    "list_demo = [1,2,3,4,5]\n",
    "list_sq = [i**2 for i in list_demo]\n",
    "print(list_sq)"
   ]
  },
  {
   "cell_type": "code",
   "execution_count": null,
   "metadata": {},
   "outputs": [],
   "source": []
  },
  {
   "cell_type": "code",
   "execution_count": 31,
   "metadata": {},
   "outputs": [
    {
     "name": "stdout",
     "output_type": "stream",
     "text": [
      "<class 'requests.models.Response'>\n",
      "<Response [200]>\n",
      "<class 'dict'>\n",
      "{'route': {'hasTollRoad': False, 'hasBridge': True, 'boundingBox': {'lr': {'lng': -76.612137, 'lat': 38.892063}, 'ul': {'lng': -77.019913, 'lat': 39.290443}}, 'distance': 38.089, 'hasTimedRestriction': False, 'hasTunnel': False, 'hasHighway': True, 'computedWaypoints': [], 'routeError': {'errorCode': -400, 'message': ''}, 'formattedTime': '00:49:29', 'sessionId': '5ecd5387-0344-6750-02b4-1828-1281a879d0ef', 'hasAccessRestriction': False, 'realTime': 3437, 'hasSeasonalClosure': False, 'hasCountryCross': False, 'fuelUsed': 1.65, 'legs': [{'hasTollRoad': False, 'hasBridge': True, 'destNarrative': 'Proceed to BALTIMORE, MD.', 'distance': 38.089, 'hasTimedRestriction': False, 'hasTunnel': False, 'hasHighway': True, 'index': 0, 'formattedTime': '00:49:29', 'origIndex': -1, 'hasAccessRestriction': False, 'hasSeasonalClosure': False, 'hasCountryCross': False, 'roadGradeStrategy': [[]], 'destIndex': 3, 'time': 2969, 'hasUnpaved': False, 'origNarrative': '', 'maneuvers': [{'distance': 0.792, 'streets': ['6th St', 'US-50 E', 'US-1 N'], 'narrative': 'Start out going north on 6th St/US-50 E/US-1 N toward Pennsylvania Ave/US-1 Alt N.', 'turnType': 0, 'startPoint': {'lng': -77.019913, 'lat': 38.892063}, 'index': 0, 'formattedTime': '00:02:06', 'directionName': 'North', 'maneuverNotes': [], 'linkIds': [], 'signs': [{'extraText': '', 'text': '50', 'type': 2, 'url': 'http://icons.mqcdn.com/icons/rs2.png?n=50&d=EAST', 'direction': 8}, {'extraText': '', 'text': '1', 'type': 2, 'url': 'http://icons.mqcdn.com/icons/rs2.png?n=1&d=NORTH', 'direction': 1}], 'mapUrl': 'http://www.mapquestapi.com/staticmap/v5/map?key=qLFKsYvU3e3iEl31xzYy9GPZAItXz68y&size=225,160&locations=38.89206314086914,-77.01991271972656|marker-1||38.903533935546875,-77.01990509033203|marker-2||&center=38.89779853820801,-77.0199089050293&defaultMarker=none&zoom=9&rand=-632658424&session=5ecd5387-0344-6750-02b4-1828-1281a879d0ef', 'transportMode': 'AUTO', 'attributes': 0, 'time': 126, 'iconUrl': 'http://content.mqcdn.com/mqsite/turnsigns/icon-dirs-start_sm.gif', 'direction': 1}, {'distance': 4.662, 'streets': ['US-50 E'], 'narrative': 'Turn right onto New York Ave/US-50 E. Continue to follow US-50 E (Crossing into Maryland).', 'turnType': 2, 'startPoint': {'lng': -77.019905, 'lat': 38.903534}, 'index': 1, 'formattedTime': '00:08:28', 'directionName': 'East', 'maneuverNotes': [], 'linkIds': [], 'signs': [{'extraText': '', 'text': '50', 'type': 2, 'url': 'http://icons.mqcdn.com/icons/rs2.png?n=50&d=EAST', 'direction': 8}], 'mapUrl': 'http://www.mapquestapi.com/staticmap/v5/map?key=qLFKsYvU3e3iEl31xzYy9GPZAItXz68y&size=225,160&locations=38.903533935546875,-77.01990509033203|marker-2||38.91865921020508,-76.93811798095703|marker-3||&center=38.91109657287598,-76.97901153564453&defaultMarker=none&zoom=8&rand=-632658424&session=5ecd5387-0344-6750-02b4-1828-1281a879d0ef', 'transportMode': 'AUTO', 'attributes': 1152, 'time': 508, 'iconUrl': 'http://content.mqcdn.com/mqsite/turnsigns/rs_right_sm.gif', 'direction': 8}, {'distance': 0.545, 'streets': [], 'narrative': 'Take the Balt-Wash Parkway exit on the left toward Baltimore.', 'turnType': 15, 'startPoint': {'lng': -76.938118, 'lat': 38.918659}, 'index': 2, 'formattedTime': '00:00:51', 'directionName': 'Northeast', 'maneuverNotes': [], 'linkIds': [], 'signs': [], 'mapUrl': 'http://www.mapquestapi.com/staticmap/v5/map?key=qLFKsYvU3e3iEl31xzYy9GPZAItXz68y&size=225,160&locations=38.91865921020508,-76.93811798095703|marker-3||38.92362976074219,-76.93054962158203|marker-4||&center=38.92114448547363,-76.93433380126953&defaultMarker=none&zoom=11&rand=-632658424&session=5ecd5387-0344-6750-02b4-1828-1281a879d0ef', 'transportMode': 'AUTO', 'attributes': 0, 'time': 51, 'iconUrl': 'http://content.mqcdn.com/mqsite/turnsigns/rs_gr_exitleft_sm.gif', 'direction': 3}, {'distance': 31.29, 'streets': ['MD-295 N'], 'narrative': 'Merge onto MD-295 N.', 'turnType': 11, 'startPoint': {'lng': -76.93055, 'lat': 38.92363}, 'index': 3, 'formattedTime': '00:35:58', 'directionName': 'North', 'maneuverNotes': [], 'linkIds': [], 'signs': [{'extraText': '', 'text': '295', 'type': 519, 'url': 'http://icons.mqcdn.com/icons/rs519.png?n=295&d=NORTH', 'direction': 1}], 'mapUrl': 'http://www.mapquestapi.com/staticmap/v5/map?key=qLFKsYvU3e3iEl31xzYy9GPZAItXz68y&size=225,160&locations=38.92362976074219,-76.93054962158203|marker-4||39.2862548828125,-76.62206268310547|marker-5||&center=39.104942321777344,-76.77630615234375&defaultMarker=none&zoom=5&rand=-632658424&session=5ecd5387-0344-6750-02b4-1828-1281a879d0ef', 'transportMode': 'AUTO', 'attributes': 1152, 'time': 2158, 'iconUrl': 'http://content.mqcdn.com/mqsite/turnsigns/rs_merge_left_sm.gif', 'direction': 1}, {'distance': 0.533, 'streets': ['W Pratt St'], 'narrative': 'Turn right onto W Pratt St.', 'turnType': 2, 'startPoint': {'lng': -76.622063, 'lat': 39.286255}, 'index': 4, 'formattedTime': '00:01:22', 'directionName': 'East', 'maneuverNotes': [], 'linkIds': [], 'signs': [], 'mapUrl': 'http://www.mapquestapi.com/staticmap/v5/map?key=qLFKsYvU3e3iEl31xzYy9GPZAItXz68y&size=225,160&locations=39.2862548828125,-76.62206268310547|marker-5||39.28658676147461,-76.61213684082031|marker-6||&center=39.286420822143555,-76.61709976196289&defaultMarker=none&zoom=11&rand=-632658424&session=5ecd5387-0344-6750-02b4-1828-1281a879d0ef', 'transportMode': 'AUTO', 'attributes': 0, 'time': 82, 'iconUrl': 'http://content.mqcdn.com/mqsite/turnsigns/rs_right_sm.gif', 'direction': 8}, {'distance': 0.267, 'streets': ['S Calvert St', 'MD-2'], 'narrative': 'Turn left onto S Calvert St/MD-2.', 'turnType': 6, 'startPoint': {'lng': -76.612137, 'lat': 39.286587}, 'index': 5, 'formattedTime': '00:00:44', 'directionName': 'North', 'maneuverNotes': [], 'linkIds': [], 'signs': [{'extraText': '', 'text': '2', 'type': 519, 'url': 'http://icons.mqcdn.com/icons/rs519.png?n=2', 'direction': 0}], 'mapUrl': 'http://www.mapquestapi.com/staticmap/v5/map?key=qLFKsYvU3e3iEl31xzYy9GPZAItXz68y&size=225,160&locations=39.28658676147461,-76.61213684082031|marker-6||39.290443420410156,-76.61233520507812|marker-7||&center=39.28851509094238,-76.61223602294922&defaultMarker=none&zoom=11&rand=-632658424&session=5ecd5387-0344-6750-02b4-1828-1281a879d0ef', 'transportMode': 'AUTO', 'attributes': 0, 'time': 44, 'iconUrl': 'http://content.mqcdn.com/mqsite/turnsigns/rs_left_sm.gif', 'direction': 1}, {'distance': 0, 'streets': [], 'narrative': 'Welcome to BALTIMORE, MD.', 'turnType': -1, 'startPoint': {'lng': -76.612335, 'lat': 39.290443}, 'index': 6, 'formattedTime': '00:00:00', 'directionName': '', 'maneuverNotes': [], 'linkIds': [], 'signs': [], 'transportMode': 'AUTO', 'attributes': 0, 'time': 0, 'iconUrl': 'http://content.mqcdn.com/mqsite/turnsigns/icon-dirs-end_sm.gif', 'direction': 0}], 'hasFerry': False}], 'options': {'arteryWeights': [], 'cyclingRoadFactor': 1, 'timeType': 0, 'useTraffic': False, 'returnLinkDirections': False, 'countryBoundaryDisplay': True, 'enhancedNarrative': False, 'locale': 'en_US', 'tryAvoidLinkIds': [], 'drivingStyle': 2, 'doReverseGeocode': True, 'generalize': -1, 'mustAvoidLinkIds': [], 'sideOfStreetDisplay': True, 'routeType': 'FASTEST', 'avoidTimedConditions': False, 'routeNumber': 0, 'shapeFormat': 'raw', 'maxWalkingDistance': -1, 'destinationManeuverDisplay': True, 'transferPenalty': -1, 'narrativeType': 'text', 'walkingSpeed': -1, 'urbanAvoidFactor': -1, 'stateBoundaryDisplay': True, 'unit': 'M', 'highwayEfficiency': 22, 'maxLinkId': 0, 'maneuverPenalty': -1, 'avoidTripIds': [], 'filterZoneFactor': -1, 'manmaps': 'true'}, 'locations': [{'dragPoint': False, 'displayLatLng': {'lng': -77.019913, 'lat': 38.892063}, 'adminArea4': 'District of Columbia', 'adminArea5': 'Washington', 'postalCode': '', 'adminArea1': 'US', 'adminArea3': 'DC', 'type': 's', 'sideOfStreet': 'N', 'geocodeQualityCode': 'A5XAX', 'adminArea4Type': 'County', 'linkId': 16768184, 'street': '', 'adminArea5Type': 'City', 'geocodeQuality': 'CITY', 'adminArea1Type': 'Country', 'adminArea3Type': 'State', 'latLng': {'lng': -77.019912, 'lat': 38.892062}}, {'dragPoint': False, 'displayLatLng': {'lng': -76.612328, 'lat': 39.29044}, 'adminArea4': '', 'adminArea5': 'Baltimore', 'postalCode': '', 'adminArea1': 'US', 'adminArea3': 'MD', 'type': 's', 'sideOfStreet': 'N', 'geocodeQualityCode': 'A5XAX', 'adminArea4Type': 'County', 'linkId': 34613359, 'street': '', 'adminArea5Type': 'City', 'geocodeQuality': 'CITY', 'adminArea1Type': 'Country', 'adminArea3Type': 'State', 'latLng': {'lng': -76.61233, 'lat': 39.29044}}], 'time': 2969, 'hasUnpaved': False, 'locationSequence': [0, 1], 'hasFerry': False}, 'info': {'statuscode': 0, 'copyright': {'imageAltText': '© 2020 MapQuest, Inc.', 'imageUrl': 'http://api.mqcdn.com/res/mqlogo.gif', 'text': '© 2020 MapQuest, Inc.'}, 'messages': []}}\n"
     ]
    }
   ],
   "source": [
    "content_get = requests.get(url_to_send)\n",
    "print(type(content_get))\n",
    "print(content_get)\n",
    "content_get_json = content_get.json()\n",
    "print(type(content_get_json))\n",
    "print(content_get_json)"
   ]
  },
  {
   "cell_type": "code",
   "execution_count": 32,
   "metadata": {},
   "outputs": [
    {
     "name": "stdout",
     "output_type": "stream",
     "text": [
      "dict_keys(['route', 'info'])\n"
     ]
    }
   ],
   "source": [
    "print(content_get_json.keys())"
   ]
  },
  {
   "cell_type": "code",
   "execution_count": 35,
   "metadata": {},
   "outputs": [
    {
     "name": "stdout",
     "output_type": "stream",
     "text": [
      "dict_keys(['hasTollRoad', 'hasBridge', 'boundingBox', 'distance', 'hasTimedRestriction', 'hasTunnel', 'hasHighway', 'computedWaypoints', 'routeError', 'formattedTime', 'sessionId', 'hasAccessRestriction', 'realTime', 'hasSeasonalClosure', 'hasCountryCross', 'fuelUsed', 'legs', 'options', 'locations', 'time', 'hasUnpaved', 'locationSequence', 'hasFerry'])\n"
     ]
    }
   ],
   "source": [
    "print(content_get_json['route'].keys())"
   ]
  },
  {
   "cell_type": "code",
   "execution_count": 36,
   "metadata": {},
   "outputs": [
    {
     "name": "stdout",
     "output_type": "stream",
     "text": [
      "00:49:29\n"
     ]
    }
   ],
   "source": [
    "print(content_get_json['route']['formattedTime'])"
   ]
  },
  {
   "cell_type": "code",
   "execution_count": 37,
   "metadata": {},
   "outputs": [
    {
     "name": "stdout",
     "output_type": "stream",
     "text": [
      "dict_keys(['statuscode', 'copyright', 'messages'])\n"
     ]
    }
   ],
   "source": [
    "print(content_get_json['info'].keys())"
   ]
  },
  {
   "cell_type": "code",
   "execution_count": 41,
   "metadata": {},
   "outputs": [
    {
     "name": "stdout",
     "output_type": "stream",
     "text": [
      "0\n"
     ]
    }
   ],
   "source": [
    "print(content_get_json['info']['statuscode'])"
   ]
  },
  {
   "cell_type": "code",
   "execution_count": null,
   "metadata": {},
   "outputs": [],
   "source": []
  }
 ],
 "metadata": {
  "kernelspec": {
   "display_name": "Python 3",
   "language": "python",
   "name": "python3"
  },
  "language_info": {
   "codemirror_mode": {
    "name": "ipython",
    "version": 3
   },
   "file_extension": ".py",
   "mimetype": "text/x-python",
   "name": "python",
   "nbconvert_exporter": "python",
   "pygments_lexer": "ipython3",
   "version": "3.7.4"
  }
 },
 "nbformat": 4,
 "nbformat_minor": 2
}
