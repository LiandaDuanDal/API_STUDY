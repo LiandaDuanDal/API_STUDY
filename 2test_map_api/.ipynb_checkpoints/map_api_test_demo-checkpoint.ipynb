{
 "cells": [
  {
   "cell_type": "code",
   "execution_count": 1,
   "metadata": {},
   "outputs": [],
   "source": [
    "def send_request_get_frrdback(url_be_sent):\n",
    "    import requests\n",
    "    return_inf = requests.post(url_be_sent)\n",
    "\n"
   ]
  },
  {
   "cell_type": "code",
   "execution_count": 4,
   "metadata": {},
   "outputs": [
    {
     "name": "stdout",
     "output_type": "stream",
     "text": [
      "\u001b[1m\u001b[36m1.make_new_notebook_and_practice_python_libraries_data\u001b[m\u001b[m\n",
      "PYTHON_API_NETWORKING_NOTE.md\n",
      "README.md\n",
      "apic_em.ipynb\n",
      "apicem.pdf\n",
      "map_api_test_demo.ipynb\n",
      "pythonLibrariesPpt.pdf\n",
      "\u001b[1m\u001b[36mpython_api\u001b[m\u001b[m\n",
      "\u001b[1m\u001b[36mzip\u001b[m\u001b[m\n",
      "The files /Users/lianda_duan/Downloads/API_STUDY_ME/echo and /Users/lianda_duan/Downloads/API_STUDY_ME/pwd do not exist.\n"
     ]
    }
   ],
   "source": [
    "!ls\n",
    "!open echo pwd"
   ]
  },
  {
   "cell_type": "code",
   "execution_count": 1,
   "metadata": {},
   "outputs": [],
   "source": [
    "!touch key.py"
   ]
  },
  {
   "cell_type": "code",
   "execution_count": 2,
   "metadata": {},
   "outputs": [
    {
     "name": "stdout",
     "output_type": "stream",
     "text": [
      "key.py                  map_api_test_demo.ipynb\r\n"
     ]
    }
   ],
   "source": [
    "!ls"
   ]
  },
  {
   "cell_type": "code",
   "execution_count": 4,
   "metadata": {},
   "outputs": [],
   "source": [
    "!echo \"var1 = 2345\"> key.py"
   ]
  },
  {
   "cell_type": "code",
   "execution_count": 5,
   "metadata": {},
   "outputs": [
    {
     "name": "stdout",
     "output_type": "stream",
     "text": [
      "var1 = 2345\r\n"
     ]
    }
   ],
   "source": [
    "!cat key.py"
   ]
  },
  {
   "cell_type": "code",
   "execution_count": null,
   "metadata": {},
   "outputs": [],
   "source": []
  }
 ],
 "metadata": {
  "kernelspec": {
   "display_name": "Python 3",
   "language": "python",
   "name": "python3"
  },
  "language_info": {
   "codemirror_mode": {
    "name": "ipython",
    "version": 3
   },
   "file_extension": ".py",
   "mimetype": "text/x-python",
   "name": "python",
   "nbconvert_exporter": "python",
   "pygments_lexer": "ipython3",
   "version": "3.7.4"
  }
 },
 "nbformat": 4,
 "nbformat_minor": 2
}
